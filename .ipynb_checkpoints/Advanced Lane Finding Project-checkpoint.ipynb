{
 "cells": [
  {
   "cell_type": "markdown",
   "metadata": {},
   "source": [
    "# Advanced Lane Finding Project\n",
    "\n",
    "## Project Objective\n",
    "\n",
    "Develop an image processing pipeline that can identify lane lines, measure the radius of the curve(if any), identify the center of the lane, determine how far off-center the vehicle is currently driving, and clearly label identfied lines and lane space.\n",
    "\n",
    "Image processing pipeline\n",
    "\n",
    "Undistort - Camera lenses introduce distortion into captured images as a consequence of having increased field of view. In order to undistort \n",
    "\n",
    "Warp\n",
    "\n",
    "Isolate Lanes\n",
    "\n",
    "Curve Fit\n",
    "\n",
    "Final Image\n",
    "\n",
    "Blah blah blah\n",
    "\n",
    "\n",
    "\n",
    "\n",
    "\n"
   ]
  },
  {
   "cell_type": "code",
   "execution_count": 1,
   "metadata": {},
   "outputs": [
    {
     "name": "stdout",
     "output_type": "stream",
     "text": [
      "C:\\Users\\Maxwell\\Udacity Repos\\CarND-Advanced-Lane-Finding\n"
     ]
    }
   ],
   "source": [
    "import numpy as np\n",
    "import cv2\n",
    "import glob\n",
    "import matplotlib.pyplot as plt\n",
    "import matplotlib.image as mpimg\n",
    "from ipywidgets import interact, interactive, fixed\n",
    "import os\n",
    "\n",
    "%matplotlib inline\n",
    "\n",
    "test = os.getcwd()\n",
    "print(test)"
   ]
  },
  {
   "cell_type": "code",
   "execution_count": 16,
   "metadata": {},
   "outputs": [],
   "source": [
    "#Calibration\n",
    "\n",
    "img = mpimg.imread('camera_cal/calibration2.jpg')\n",
    "\n",
    "images = [cv2.imread(file) for file in glob.glob(\"camera_cal/*.jpg\")]\n",
    "objp = np.zeros((6*8,3), np.float32)\n",
    "objp[:,:2] = np.mgrid[0:8, 0:6].T.reshape(-1,2)\n",
    "objpoints = []\n",
    "imgpoints = []\n",
    "\n",
    "# prepare object points\n",
    "nx = 9\n",
    "ny = 6\n",
    "\n",
    "# Make a list of calibration images\n",
    "#fname = 'calibration2.png'\n",
    "#img = cv2.imread(fname)\n",
    "\n",
    "for image in images:\n",
    "    #img = cv2.imread(fname)\n",
    "    gray = cv2.cvtColor(image, cv2.COLOR_BGR2GRAY)\n",
    "    ret, corners = cv2.findChessboardCorners(gray, (nx, ny), None)\n",
    "\n",
    "# If found, draw corners\n",
    "    if ret == True:\n",
    "        # Draw and display the corners\n",
    "        objpoints.append(objp)\n",
    "        imgpoints.append(corners)\n",
    "        # Draw and display the corners\n",
    "        cv2.drawChessboardCorners(image, (9,6), corners, ret)\n",
    "        #write_name = 'corners_found'+str(idx)+'.jpg'\n",
    "        #cv2.imwrite(write_name, img)\n",
    "        cv2.imshow('img', image)\n",
    "        cv2.waitKey(500)\n",
    "cv2.destroyAllWindows()\n"
   ]
  },
  {
   "cell_type": "code",
   "execution_count": 14,
   "metadata": {},
   "outputs": [],
   "source": [
    "#get lens calibration values\n",
    "#slice video into images\n",
    "#apply lens calibration to video images\n",
    "#warp video images so they display an overhead view\n",
    "#Figure out what colorspace I want to used to detect lane lines(simplecv tool could be useful here)\n",
    "#Take colorspace shifted images and use rectangle histogram method to identfy location of lane lines\n",
    "#Shift rectangle upwards and repeat until completed for the whole image\n",
    "#take lane line locations and generate a polyfit curve that best fits through their centers\n",
    "#Draw the polyfit line in yellow\n",
    "#Draw a rectange the space between the lines in grew\n",
    "#calculate the center of the lane\n",
    "#calculate the distance of the vehicle from center\n",
    "#calculate the radius of the curve\n",
    "#dewarp the resultant image with identified lane lines\n",
    "#display the calculated radius, centerm and distance from center\n",
    "#Repeat for all images\n",
    "#Recreate video from processed images"
   ]
  },
  {
   "cell_type": "code",
   "execution_count": null,
   "metadata": {},
   "outputs": [],
   "source": []
  }
 ],
 "metadata": {
  "kernelspec": {
   "display_name": "Python 3",
   "language": "python",
   "name": "python3"
  },
  "language_info": {
   "codemirror_mode": {
    "name": "ipython",
    "version": 3
   },
   "file_extension": ".py",
   "mimetype": "text/x-python",
   "name": "python",
   "nbconvert_exporter": "python",
   "pygments_lexer": "ipython3",
   "version": "3.5.2"
  },
  "widgets": {
   "state": {},
   "version": "1.1.2"
  }
 },
 "nbformat": 4,
 "nbformat_minor": 2
}
